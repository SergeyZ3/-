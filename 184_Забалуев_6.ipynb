{
 "cells": [
  {
   "cell_type": "markdown",
   "metadata": {},
   "source": [
    "# 6 номер"
   ]
  },
  {
   "cell_type": "code",
   "execution_count": 1,
   "metadata": {},
   "outputs": [
    {
     "name": "stdout",
     "output_type": "stream",
     "text": [
      "Requirement already satisfied: gekko in c:\\users\\svzab\\anaconda3\\lib\\site-packages (0.2.8)\n",
      "Requirement already satisfied: numpy>=1.8 in c:\\users\\svzab\\anaconda3\\lib\\site-packages (from gekko) (1.16.5)\n",
      "Requirement already satisfied: flask-cors in c:\\users\\svzab\\anaconda3\\lib\\site-packages (from gekko) (3.0.9)\n",
      "Requirement already satisfied: flask in c:\\users\\svzab\\anaconda3\\lib\\site-packages (from gekko) (1.1.1)\n",
      "Requirement already satisfied: Six in c:\\users\\svzab\\anaconda3\\lib\\site-packages (from flask-cors->gekko) (1.12.0)\n",
      "Requirement already satisfied: itsdangerous>=0.24 in c:\\users\\svzab\\anaconda3\\lib\\site-packages (from flask->gekko) (1.1.0)\n",
      "Requirement already satisfied: Werkzeug>=0.15 in c:\\users\\svzab\\anaconda3\\lib\\site-packages (from flask->gekko) (0.16.0)\n",
      "Requirement already satisfied: Jinja2>=2.10.1 in c:\\users\\svzab\\anaconda3\\lib\\site-packages (from flask->gekko) (2.10.3)\n",
      "Requirement already satisfied: click>=5.1 in c:\\users\\svzab\\anaconda3\\lib\\site-packages (from flask->gekko) (7.0)\n",
      "Requirement already satisfied: MarkupSafe>=0.23 in c:\\users\\svzab\\anaconda3\\lib\\site-packages (from Jinja2>=2.10.1->flask->gekko) (1.1.1)\n"
     ]
    }
   ],
   "source": [
    "!pip install gekko\n",
    "from gekko import GEKKO\n",
    "import numpy as np\n",
    "import matplotlib.pyplot as plt\n",
    "import math\n",
    "from scipy.optimize import minimize\n",
    "from math import cos"
   ]
  },
  {
   "cell_type": "code",
   "execution_count": 3,
   "metadata": {},
   "outputs": [
    {
     "name": "stdout",
     "output_type": "stream",
     "text": [
      "      fun: -128.8204444832676\n",
      " hess_inv: <51x51 LbfgsInvHessProduct with dtype=float64>\n",
      "      jac: array([-1.26292593e+02, -4.61568561e-03, -2.61479727e-04,  2.13162821e-04,\n",
      "       -1.48162371e-02,  1.11072040e-02, -1.30029321e-02,  4.36273240e-03,\n",
      "       -1.25055521e-04,  2.27373675e-03, -9.77138370e-03,  1.71525016e-02,\n",
      "       -1.91249683e-02,  1.94233962e-02, -6.10214101e-03,  5.49391643e-03,\n",
      "        3.47313289e-03, -7.69375674e-03,  8.26503310e-03, -1.74111392e-02,\n",
      "        1.72661885e-02, -1.41824330e-02,  1.27215571e-02, -6.80131507e-03,\n",
      "        6.03108674e-03, -1.74054549e-02,  1.68824954e-02, -2.13390194e-02,\n",
      "        2.19415597e-02, -3.10933501e-03,  6.99742486e-03,  3.03828074e-03,\n",
      "       -9.86517534e-03, -5.55928636e-03, -9.32516286e-03, -6.16751095e-03,\n",
      "        7.72786279e-03, -7.65680852e-03,  1.44865453e-02, -1.59019464e-02,\n",
      "        2.98712166e-03, -1.13772103e-02, -3.02406988e-03,  7.64828201e-03,\n",
      "        1.36424205e-03,  1.02289732e-02,  4.63842298e-03, -9.10631570e-03,\n",
      "        4.02735623e-03, -1.02431841e-02, -6.56416546e+01])\n",
      "  message: b'CONVERGENCE: REL_REDUCTION_OF_F_<=_FACTR*EPSMCH'\n",
      "     nfev: 6812\n",
      "      nit: 127\n",
      "   status: 0\n",
      "  success: True\n",
      "        x: array([1.00001   , 1.0623329 , 1.12360961, 1.18377751, 1.24277697,\n",
      "       1.30055717, 1.35704831, 1.41220652, 1.4659688 , 1.51828429,\n",
      "       1.56910019, 1.61837228, 1.66603864, 1.71207014, 1.75640232,\n",
      "       1.79900402, 1.83982747, 1.87883339, 1.91598877, 1.95124909,\n",
      "       1.9845922 , 2.01596808, 2.0453613 , 2.07272955, 2.09805547,\n",
      "       2.12130773, 2.14247494, 2.16151929, 2.17844085, 2.19320155,\n",
      "       2.2057992 , 2.21621637, 2.22444473, 2.23048253, 2.23432169,\n",
      "       2.23596027, 2.23539511, 2.23261989, 2.22764495, 2.22046428,\n",
      "       2.21109996, 2.1995519 , 2.18583859, 2.16996946, 2.15195488,\n",
      "       2.13181575, 2.10956757, 2.08523504, 2.05884898, 2.03042893,\n",
      "       2.00001   ])\n"
     ]
    },
    {
     "data": {
      "image/png": "[encoded data removed]",
      "text/plain": [
       "<Figure size 432x288 with 1 Axes>"
      ]
     },
     "metadata": {
      "needs_background": "light"
     },
     "output_type": "display_data"
    }
   ],
   "source": [
    "# Экстремаль была найдена\n",
    "# Численным методом был найден минимум функционала, равный -128.82\n",
    "# Задаём дискретное время\n",
    "num_of_fractions = 51   # Количество делений на дискретной шкале времени\n",
    "t = np.linspace(0, np.pi/2, num_of_fractions)     # Дискретная шкала времени, интеграл от нуля до pi/2\n",
    "dt = t[1] - t[0]    # Рассчитываем шаг шкалы\n",
    "\n",
    "# Задаём оптимизируемый функционал в дискретном времени\n",
    "def f(y):\n",
    "    return np.sum(((y[1:] - y[:-1]) / dt) ** 2 - y[1:] ** 2)\n",
    "\n",
    "y0 = [0.2 for x in range(0, num_of_fractions)]     # Начальное значение y\n",
    "\n",
    "# Задаем ограничения на y. У нас y(0)=1 и y(pi/2)=2\n",
    "bounds = [(None, None) for x in range(0, num_of_fractions)]\n",
    "bounds[0], bounds[-1] = (1-10e-6,1+ 10e-6), (2 - 10e-6, 2 + 10e-6)\n",
    "\n",
    "ans = minimize(f, y0, method='l-bfgs-b', bounds=bounds)\n",
    "print(ans)\n",
    "plt.plot(t, ans.x)\n",
    "plt.xlabel('t')\n",
    "plt.ylabel('y')\n",
    "plt.show()"
   ]
  }
 ],
 "metadata": {
  "kernelspec": {
   "display_name": "Python 3",
   "language": "python",
   "name": "python3"
  },
  "language_info": {
   "codemirror_mode": {
    "name": "ipython",
    "version": 3
   },
   "file_extension": ".py",
   "mimetype": "text/x-python",
   "name": "python",
   "nbconvert_exporter": "python",
   "pygments_lexer": "ipython3",
   "version": "3.7.4"
  }
 },
 "nbformat": 4,
 "nbformat_minor": 2
}
